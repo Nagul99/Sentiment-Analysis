{
  "nbformat": 4,
  "nbformat_minor": 0,
  "metadata": {
    "accelerator": "GPU",
    "colab": {
      "name": "SentimentAnalysis.ipynb",
      "provenance": []
    },
    "kernelspec": {
      "display_name": "Python 3",
      "language": "python",
      "name": "python3"
    },
    "language_info": {
      "codemirror_mode": {
        "name": "ipython",
        "version": 3
      },
      "file_extension": ".py",
      "mimetype": "text/x-python",
      "name": "python",
      "nbconvert_exporter": "python",
      "pygments_lexer": "ipython3",
      "version": "3.7.6"
    }
  },
  "cells": [
    {
      "cell_type": "code",
      "metadata": {
        "colab_type": "code",
        "id": "hmA6EzkQJ5jt",
        "colab": {}
      },
      "source": [
        "import json\n",
        "import tensorflow as tf\n",
        "import csv\n",
        "import random\n",
        "import numpy as np\n",
        "\n",
        "from tensorflow.keras.preprocessing.text import Tokenizer\n",
        "from tensorflow.keras.preprocessing.sequence import pad_sequences\n",
        "from tensorflow.keras.utils import to_categorical\n",
        "from tensorflow.keras import regularizers\n",
        "\n",
        "\n",
        "embedding_dim = 100\n",
        "max_length = 16\n",
        "trunc_type='post'\n",
        "padding_type='post'\n",
        "oov_tok = \"<OOV>\"\n",
        "training_size=160000\n",
        "test_portion=.1\n",
        "\n",
        "corpus = []\n"
      ],
      "execution_count": 1,
      "outputs": []
    },
    {
      "cell_type": "code",
      "metadata": {
        "colab_type": "code",
        "id": "bM0l_dORKqE0",
        "colab": {
          "base_uri": "https://localhost:8080/",
          "height": 204
        },
        "outputId": "26e2056a-2e5f-45e8-808a-0ea415e942ab"
      },
      "source": [
        "\n",
        "!wget --no-check-certificate \\\n",
        "    https://storage.googleapis.com/laurencemoroney-blog.appspot.com/training_cleaned.csv \\\n",
        "    -O /tmp/training_cleaned.csv\n",
        "\n",
        "num_sentences = 0\n",
        "\n",
        "with open(\"/tmp/training_cleaned.csv\") as csvfile:\n",
        "    reader = csv.reader(csvfile, delimiter=',')\n",
        "    for row in reader:\n",
        "        list_item=[]\n",
        "        list_item.append(row[5])\n",
        "        this_label=row[0]\n",
        "        if this_label=='0':\n",
        "            list_item.append(0)\n",
        "        else:\n",
        "            list_item.append(1)\n",
        "        num_sentences = num_sentences + 1\n",
        "        corpus.append(list_item)\n"
      ],
      "execution_count": 2,
      "outputs": [
        {
          "output_type": "stream",
          "text": [
            "--2020-08-16 18:09:34--  https://storage.googleapis.com/laurencemoroney-blog.appspot.com/training_cleaned.csv\n",
            "Resolving storage.googleapis.com (storage.googleapis.com)... 64.233.187.128, 64.233.189.128, 108.177.97.128, ...\n",
            "Connecting to storage.googleapis.com (storage.googleapis.com)|64.233.187.128|:443... connected.\n",
            "HTTP request sent, awaiting response... 200 OK\n",
            "Length: 238942690 (228M) [application/octet-stream]\n",
            "Saving to: ‘/tmp/training_cleaned.csv’\n",
            "\n",
            "/tmp/training_clean 100%[===================>] 227.87M  95.9MB/s    in 2.4s    \n",
            "\n",
            "2020-08-16 18:09:36 (95.9 MB/s) - ‘/tmp/training_cleaned.csv’ saved [238942690/238942690]\n",
            "\n"
          ],
          "name": "stdout"
        }
      ]
    },
    {
      "cell_type": "code",
      "metadata": {
        "colab_type": "code",
        "id": "3kxblBUjEUX-",
        "colab": {
          "base_uri": "https://localhost:8080/",
          "height": 68
        },
        "outputId": "c652a8c5-a733-4a2a-c5b1-72fafafc4ea2"
      },
      "source": [
        "print(num_sentences)\n",
        "print(len(corpus))\n",
        "print(corpus[1])\n"
      ],
      "execution_count": 3,
      "outputs": [
        {
          "output_type": "stream",
          "text": [
            "1600000\n",
            "1600000\n",
            "[\"is upset that he can't update his Facebook by texting it... and might cry as a result  School today also. Blah!\", 0]\n"
          ],
          "name": "stdout"
        }
      ]
    },
    {
      "cell_type": "code",
      "metadata": {
        "colab_type": "code",
        "id": "ohOGz24lsNAD",
        "colab": {}
      },
      "source": [
        "sentences=[]\n",
        "labels=[]\n",
        "random.shuffle(corpus)\n",
        "for x in range(training_size):\n",
        "    sentences.append(corpus[x][0])\n",
        "    labels.append(corpus[x][1])\n",
        "\n",
        "\n",
        "tokenizer = Tokenizer()\n",
        "tokenizer.fit_on_texts(sentences)\n",
        "\n",
        "word_index = tokenizer.word_index\n",
        "vocab_size=len(word_index)\n",
        "\n",
        "sequences = tokenizer.texts_to_sequences(sentences)\n",
        "padded = pad_sequences(sequences, maxlen=max_length, padding=padding_type, truncating=trunc_type)\n",
        "\n",
        "split = int(test_portion * training_size)\n",
        "\n",
        "test_sequences = padded[0:split]\n",
        "training_sequences = padded[split:training_size]\n",
        "test_labels = labels[0:split]\n",
        "training_labels = labels[split:training_size]"
      ],
      "execution_count": 4,
      "outputs": []
    },
    {
      "cell_type": "code",
      "metadata": {
        "colab_type": "code",
        "id": "gIrtRem1En3N",
        "colab": {
          "base_uri": "https://localhost:8080/",
          "height": 51
        },
        "outputId": "8193ca41-ccd0-420e-d94c-54dac44fa3e2"
      },
      "source": [
        "print(vocab_size)\n",
        "print(word_index['i'])\n"
      ],
      "execution_count": 5,
      "outputs": [
        {
          "output_type": "stream",
          "text": [
            "138501\n",
            "1\n"
          ],
          "name": "stdout"
        }
      ]
    },
    {
      "cell_type": "code",
      "metadata": {
        "colab_type": "code",
        "id": "C1zdgJkusRh0",
        "colab": {
          "base_uri": "https://localhost:8080/",
          "height": 204
        },
        "outputId": "d9dd026c-de0c-4ecd-c148-573a531a875c"
      },
      "source": [
        "\n",
        "!wget --no-check-certificate \\\n",
        "    https://storage.googleapis.com/laurencemoroney-blog.appspot.com/glove.6B.100d.txt \\\n",
        "    -O /tmp/glove.6B.100d.txt\n",
        "embeddings_index = {};\n",
        "with open('/tmp/glove.6B.100d.txt') as f:\n",
        "    for line in f:\n",
        "        values = line.split();\n",
        "        word = values[0];\n",
        "        coefs = np.asarray(values[1:], dtype='float32');\n",
        "        embeddings_index[word] = coefs;\n",
        "\n",
        "embeddings_matrix = np.zeros((vocab_size+1, embedding_dim));\n",
        "for word, i in word_index.items():\n",
        "    embedding_vector = embeddings_index.get(word);\n",
        "    if embedding_vector is not None:\n",
        "        embeddings_matrix[i] = embedding_vector;"
      ],
      "execution_count": 6,
      "outputs": [
        {
          "output_type": "stream",
          "text": [
            "--2020-08-16 18:10:11--  https://storage.googleapis.com/laurencemoroney-blog.appspot.com/glove.6B.100d.txt\n",
            "Resolving storage.googleapis.com (storage.googleapis.com)... 64.233.189.128, 108.177.97.128, 108.177.125.128, ...\n",
            "Connecting to storage.googleapis.com (storage.googleapis.com)|64.233.189.128|:443... connected.\n",
            "HTTP request sent, awaiting response... 200 OK\n",
            "Length: 347116733 (331M) [text/plain]\n",
            "Saving to: ‘/tmp/glove.6B.100d.txt’\n",
            "\n",
            "/tmp/glove.6B.100d. 100%[===================>] 331.04M   107MB/s    in 3.1s    \n",
            "\n",
            "2020-08-16 18:10:15 (107 MB/s) - ‘/tmp/glove.6B.100d.txt’ saved [347116733/347116733]\n",
            "\n"
          ],
          "name": "stdout"
        }
      ]
    },
    {
      "cell_type": "code",
      "metadata": {
        "colab_type": "code",
        "id": "71NLk_lpFLNt",
        "colab": {
          "base_uri": "https://localhost:8080/",
          "height": 34
        },
        "outputId": "ef259a46-95bc-4886-f511-9f2172a02f9c"
      },
      "source": [
        "print(len(embeddings_matrix))\n"
      ],
      "execution_count": 7,
      "outputs": [
        {
          "output_type": "stream",
          "text": [
            "138502\n"
          ],
          "name": "stdout"
        }
      ]
    },
    {
      "cell_type": "code",
      "metadata": {
        "colab_type": "code",
        "id": "iKKvbuEBOGFz",
        "colab": {
          "base_uri": "https://localhost:8080/",
          "height": 1000
        },
        "outputId": "c94f557d-a76e-48c7-eec2-0a8eeec1562e"
      },
      "source": [
        "model = tf.keras.Sequential([\n",
        "    tf.keras.layers.Embedding(vocab_size+1, embedding_dim, input_length=max_length, weights=[embeddings_matrix], trainable=False),\n",
        "    tf.keras.layers.Dropout(0.2),\n",
        "    tf.keras.layers.Conv1D(64, 5, activation='relu'),\n",
        "    tf.keras.layers.MaxPooling1D(pool_size=4),\n",
        "    tf.keras.layers.LSTM(128),\n",
        "    tf.keras.layers.Dense(1, activation='sigmoid')\n",
        "])\n",
        "model.compile(loss='binary_crossentropy',optimizer='adam',metrics=['accuracy'])\n",
        "model.summary()\n",
        "\n",
        "num_epochs = 50\n",
        "\n",
        "training_padded = np.array(training_sequences)\n",
        "training_labels = np.array(training_labels)\n",
        "testing_padded = np.array(test_sequences)\n",
        "testing_labels = np.array(test_labels)\n",
        "\n",
        "history = model.fit(training_padded, training_labels, epochs=num_epochs, validation_data=(testing_padded, testing_labels), verbose=2)\n",
        "\n",
        "print(\"Training Complete\")"
      ],
      "execution_count": 8,
      "outputs": [
        {
          "output_type": "stream",
          "text": [
            "Model: \"sequential\"\n",
            "_________________________________________________________________\n",
            "Layer (type)                 Output Shape              Param #   \n",
            "=================================================================\n",
            "embedding (Embedding)        (None, 16, 100)           13850200  \n",
            "_________________________________________________________________\n",
            "dropout (Dropout)            (None, 16, 100)           0         \n",
            "_________________________________________________________________\n",
            "conv1d (Conv1D)              (None, 12, 64)            32064     \n",
            "_________________________________________________________________\n",
            "max_pooling1d (MaxPooling1D) (None, 3, 64)             0         \n",
            "_________________________________________________________________\n",
            "lstm (LSTM)                  (None, 128)               98816     \n",
            "_________________________________________________________________\n",
            "dense (Dense)                (None, 1)                 129       \n",
            "=================================================================\n",
            "Total params: 13,981,209\n",
            "Trainable params: 131,009\n",
            "Non-trainable params: 13,850,200\n",
            "_________________________________________________________________\n",
            "Epoch 1/50\n",
            "4500/4500 - 21s - loss: 0.5667 - accuracy: 0.6993 - val_loss: 0.5269 - val_accuracy: 0.7296\n",
            "Epoch 2/50\n",
            "4500/4500 - 21s - loss: 0.5266 - accuracy: 0.7332 - val_loss: 0.5283 - val_accuracy: 0.7307\n",
            "Epoch 3/50\n",
            "4500/4500 - 20s - loss: 0.5106 - accuracy: 0.7451 - val_loss: 0.5056 - val_accuracy: 0.7454\n",
            "Epoch 4/50\n",
            "4500/4500 - 20s - loss: 0.4986 - accuracy: 0.7529 - val_loss: 0.5048 - val_accuracy: 0.7489\n",
            "Epoch 5/50\n",
            "4500/4500 - 21s - loss: 0.4882 - accuracy: 0.7596 - val_loss: 0.5066 - val_accuracy: 0.7470\n",
            "Epoch 6/50\n",
            "4500/4500 - 20s - loss: 0.4812 - accuracy: 0.7640 - val_loss: 0.5019 - val_accuracy: 0.7519\n",
            "Epoch 7/50\n",
            "4500/4500 - 21s - loss: 0.4751 - accuracy: 0.7681 - val_loss: 0.4996 - val_accuracy: 0.7525\n",
            "Epoch 8/50\n",
            "4500/4500 - 22s - loss: 0.4693 - accuracy: 0.7726 - val_loss: 0.5012 - val_accuracy: 0.7518\n",
            "Epoch 9/50\n",
            "4500/4500 - 20s - loss: 0.4639 - accuracy: 0.7743 - val_loss: 0.5075 - val_accuracy: 0.7471\n",
            "Epoch 10/50\n",
            "4500/4500 - 21s - loss: 0.4591 - accuracy: 0.7771 - val_loss: 0.5151 - val_accuracy: 0.7522\n",
            "Epoch 11/50\n",
            "4500/4500 - 20s - loss: 0.4553 - accuracy: 0.7803 - val_loss: 0.5193 - val_accuracy: 0.7508\n",
            "Epoch 12/50\n",
            "4500/4500 - 20s - loss: 0.4508 - accuracy: 0.7836 - val_loss: 0.5114 - val_accuracy: 0.7502\n",
            "Epoch 13/50\n",
            "4500/4500 - 20s - loss: 0.4485 - accuracy: 0.7841 - val_loss: 0.5163 - val_accuracy: 0.7497\n",
            "Epoch 14/50\n",
            "4500/4500 - 20s - loss: 0.4457 - accuracy: 0.7851 - val_loss: 0.5177 - val_accuracy: 0.7509\n",
            "Epoch 15/50\n",
            "4500/4500 - 20s - loss: 0.4422 - accuracy: 0.7872 - val_loss: 0.5143 - val_accuracy: 0.7491\n",
            "Epoch 16/50\n",
            "4500/4500 - 20s - loss: 0.4404 - accuracy: 0.7877 - val_loss: 0.5166 - val_accuracy: 0.7493\n",
            "Epoch 17/50\n",
            "4500/4500 - 20s - loss: 0.4379 - accuracy: 0.7893 - val_loss: 0.5142 - val_accuracy: 0.7466\n",
            "Epoch 18/50\n",
            "4500/4500 - 20s - loss: 0.4354 - accuracy: 0.7927 - val_loss: 0.5219 - val_accuracy: 0.7473\n",
            "Epoch 19/50\n",
            "4500/4500 - 20s - loss: 0.4324 - accuracy: 0.7935 - val_loss: 0.5224 - val_accuracy: 0.7473\n",
            "Epoch 20/50\n",
            "4500/4500 - 20s - loss: 0.4311 - accuracy: 0.7939 - val_loss: 0.5342 - val_accuracy: 0.7486\n",
            "Epoch 21/50\n",
            "4500/4500 - 20s - loss: 0.4297 - accuracy: 0.7955 - val_loss: 0.5217 - val_accuracy: 0.7457\n",
            "Epoch 22/50\n",
            "4500/4500 - 20s - loss: 0.4277 - accuracy: 0.7955 - val_loss: 0.5279 - val_accuracy: 0.7434\n",
            "Epoch 23/50\n",
            "4500/4500 - 21s - loss: 0.4262 - accuracy: 0.7970 - val_loss: 0.5290 - val_accuracy: 0.7467\n",
            "Epoch 24/50\n",
            "4500/4500 - 21s - loss: 0.4253 - accuracy: 0.7970 - val_loss: 0.5326 - val_accuracy: 0.7441\n",
            "Epoch 25/50\n",
            "4500/4500 - 21s - loss: 0.4233 - accuracy: 0.7990 - val_loss: 0.5369 - val_accuracy: 0.7424\n",
            "Epoch 26/50\n",
            "4500/4500 - 20s - loss: 0.4230 - accuracy: 0.7984 - val_loss: 0.5382 - val_accuracy: 0.7444\n",
            "Epoch 27/50\n",
            "4500/4500 - 20s - loss: 0.4218 - accuracy: 0.7994 - val_loss: 0.5355 - val_accuracy: 0.7413\n",
            "Epoch 28/50\n",
            "4500/4500 - 20s - loss: 0.4216 - accuracy: 0.7993 - val_loss: 0.5324 - val_accuracy: 0.7386\n",
            "Epoch 29/50\n",
            "4500/4500 - 20s - loss: 0.4203 - accuracy: 0.8009 - val_loss: 0.5333 - val_accuracy: 0.7452\n",
            "Epoch 30/50\n",
            "4500/4500 - 20s - loss: 0.4186 - accuracy: 0.8017 - val_loss: 0.5318 - val_accuracy: 0.7467\n",
            "Epoch 31/50\n",
            "4500/4500 - 20s - loss: 0.4193 - accuracy: 0.8011 - val_loss: 0.5409 - val_accuracy: 0.7406\n",
            "Epoch 32/50\n",
            "4500/4500 - 20s - loss: 0.4177 - accuracy: 0.8024 - val_loss: 0.5422 - val_accuracy: 0.7412\n",
            "Epoch 33/50\n",
            "4500/4500 - 20s - loss: 0.4164 - accuracy: 0.8026 - val_loss: 0.5390 - val_accuracy: 0.7381\n",
            "Epoch 34/50\n",
            "4500/4500 - 20s - loss: 0.4159 - accuracy: 0.8022 - val_loss: 0.5448 - val_accuracy: 0.7419\n",
            "Epoch 35/50\n",
            "4500/4500 - 20s - loss: 0.4147 - accuracy: 0.8052 - val_loss: 0.5480 - val_accuracy: 0.7405\n",
            "Epoch 36/50\n",
            "4500/4500 - 20s - loss: 0.4152 - accuracy: 0.8031 - val_loss: 0.5378 - val_accuracy: 0.7431\n",
            "Epoch 37/50\n",
            "4500/4500 - 20s - loss: 0.4143 - accuracy: 0.8037 - val_loss: 0.5408 - val_accuracy: 0.7429\n",
            "Epoch 38/50\n",
            "4500/4500 - 21s - loss: 0.4140 - accuracy: 0.8049 - val_loss: 0.5420 - val_accuracy: 0.7441\n",
            "Epoch 39/50\n",
            "4500/4500 - 21s - loss: 0.4126 - accuracy: 0.8044 - val_loss: 0.5478 - val_accuracy: 0.7402\n",
            "Epoch 40/50\n",
            "4500/4500 - 21s - loss: 0.4123 - accuracy: 0.8054 - val_loss: 0.5429 - val_accuracy: 0.7381\n",
            "Epoch 41/50\n",
            "4500/4500 - 20s - loss: 0.4130 - accuracy: 0.8047 - val_loss: 0.5387 - val_accuracy: 0.7424\n",
            "Epoch 42/50\n",
            "4500/4500 - 20s - loss: 0.4121 - accuracy: 0.8047 - val_loss: 0.5428 - val_accuracy: 0.7356\n",
            "Epoch 43/50\n",
            "4500/4500 - 20s - loss: 0.4111 - accuracy: 0.8058 - val_loss: 0.5461 - val_accuracy: 0.7344\n",
            "Epoch 44/50\n",
            "4500/4500 - 20s - loss: 0.4107 - accuracy: 0.8063 - val_loss: 0.5453 - val_accuracy: 0.7473\n",
            "Epoch 45/50\n",
            "4500/4500 - 20s - loss: 0.4126 - accuracy: 0.8050 - val_loss: 0.5425 - val_accuracy: 0.7415\n",
            "Epoch 46/50\n",
            "4500/4500 - 20s - loss: 0.4109 - accuracy: 0.8059 - val_loss: 0.5477 - val_accuracy: 0.7394\n",
            "Epoch 47/50\n",
            "4500/4500 - 20s - loss: 0.4129 - accuracy: 0.8058 - val_loss: 0.5436 - val_accuracy: 0.7427\n",
            "Epoch 48/50\n",
            "4500/4500 - 20s - loss: 0.4105 - accuracy: 0.8054 - val_loss: 0.5400 - val_accuracy: 0.7396\n",
            "Epoch 49/50\n",
            "4500/4500 - 20s - loss: 0.4105 - accuracy: 0.8057 - val_loss: 0.5461 - val_accuracy: 0.7418\n",
            "Epoch 50/50\n",
            "4500/4500 - 20s - loss: 0.4095 - accuracy: 0.8069 - val_loss: 0.5477 - val_accuracy: 0.7386\n",
            "Training Complete\n"
          ],
          "name": "stdout"
        }
      ]
    },
    {
      "cell_type": "code",
      "metadata": {
        "colab_type": "code",
        "id": "qxju4ItJKO8F",
        "colab": {
          "base_uri": "https://localhost:8080/",
          "height": 607
        },
        "outputId": "651f0a2d-ad21-4829-dfbe-498f7e72f1a0"
      },
      "source": [
        "import matplotlib.image  as mpimg\n",
        "import matplotlib.pyplot as plt\n",
        "\n",
        "\n",
        "acc=history.history['accuracy']\n",
        "val_acc=history.history['val_accuracy']\n",
        "loss=history.history['loss']\n",
        "val_loss=history.history['val_loss']\n",
        "\n",
        "epochs=range(len(acc)) \n",
        "\n",
        "\n",
        "plt.plot(epochs, acc, 'r')\n",
        "plt.plot(epochs, val_acc, 'b')\n",
        "plt.title('Training and validation accuracy')\n",
        "plt.xlabel(\"Epochs\")\n",
        "plt.ylabel(\"Accuracy\")\n",
        "plt.legend([\"Accuracy\", \"Validation Accuracy\"])\n",
        "\n",
        "plt.figure()\n",
        "\n",
        "\n",
        "plt.plot(epochs, loss, 'r')\n",
        "plt.plot(epochs, val_loss, 'b')\n",
        "plt.title('Training and validation loss')\n",
        "plt.xlabel(\"Epochs\")\n",
        "plt.ylabel(\"Loss\")\n",
        "plt.legend([\"Loss\", \"Validation Loss\"])\n",
        "\n",
        "plt.figure()\n",
        "\n",
        "\n"
      ],
      "execution_count": 9,
      "outputs": [
        {
          "output_type": "execute_result",
          "data": {
            "text/plain": [
              "<Figure size 432x288 with 0 Axes>"
            ]
          },
          "metadata": {
            "tags": []
          },
          "execution_count": 9
        },
        {
          "output_type": "display_data",
          "data": {
            "image/png": "[encoded data removed]",
            "text/plain": [
              "<Figure size 432x288 with 1 Axes>"
            ]
          },
          "metadata": {
            "tags": [],
            "needs_background": "light"
          }
        },
        {
          "output_type": "display_data",
          "data": {
            "image/png": "[encoded data removed]",
            "text/plain": [
              "<Figure size 432x288 with 1 Axes>"
            ]
          },
          "metadata": {
            "tags": [],
            "needs_background": "light"
          }
        },
        {
          "output_type": "display_data",
          "data": {
            "text/plain": [
              "<Figure size 432x288 with 0 Axes>"
            ]
          },
          "metadata": {
            "tags": []
          }
        }
      ]
    },
    {
      "cell_type": "code",
      "metadata": {
        "id": "irecNqx2eFHT",
        "colab_type": "code",
        "colab": {}
      },
      "source": [
        ""
      ],
      "execution_count": null,
      "outputs": []
    }
  ]
}